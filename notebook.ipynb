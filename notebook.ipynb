{
 "cells": [
  {
   "cell_type": "code",
   "execution_count": 67,
   "id": "a8010c2d-a710-4900-931d-96cc39499b25",
   "metadata": {
    "executionCancelledAt": null,
    "executionTime": 239,
    "lastExecutedAt": 1733269229543,
    "lastExecutedByKernel": "cfc24393-52d8-4ebc-b53a-dfea351a0d49",
    "lastScheduledRunId": null,
    "lastSuccessfullyExecutedCode": "import pandas as pd \nfrom sklearn.preprocessing import LabelEncoder, StandardScaler\nfrom sklearn.feature_extraction.text import TfidfVectorizer\nfrom sklearn.model_selection import train_test_split\nfrom sklearn.ensemble import RandomForestClassifier\nfrom scipy.sparse import hstack\nfrom sklearn.metrics import accuracy_score\n\n# Read in the dataset\nbooks = pd.read_csv(\"data/books.csv\")\n\n# Preview the first five rows of the dataset\nbooks.head()",
    "outputsMetadata": {
     "0": {
      "height": 265,
      "type": "dataFrame"
     }
    }
   },
   "outputs": [
    {
     "data": {
      "application/com.datacamp.data-table.v2+json": {
       "table": {
        "data": {
         "authors": [
          "'Elizabeth Norman'",
          "'Yong-gi Cho'",
          "'Muata Ashby'",
          "'Lynden Harris'",
          "'Harvey Seymour Gross', 'Robert McDowell'"
         ],
         "categories": [
          "'History'",
          "'Religion'",
          "'Body, Mind & Spirit'",
          "'Social Science'",
          "'Poetry'"
         ],
         "description": [
          "In the fall of 1941, the Philippines was a gardenia-scented paradise for the American Army and Navy nurses stationed there. War was a distant rumor, life a routine of easy shifts and dinners under the stars. On December 8 all that changed, as Japanese bombs began raining down on American bases in Luzon, and this paradise became a fiery hell. Caught in the raging battle, the nurses set up field hospitals in the jungles of Bataan and the tunnels of Corregidor, where they tended to the most devastating injuries of war, and suffered the terrors of shells and shrapnel. But the worst was yet to come. After Bataan and Corregidor fell, the nurses were herded into internment camps where they would endure three years of fear, brutality, and starvation. Once liberated, they returned to an America that at first celebrated them, but later refused to honor their leaders with the medals they clearly deserved. Here, in letters, diaries, and riveting firsthand accounts, is the story of what really happened during those dark days, woven together in a deeply affecting saga of women in war. Praise for We Band of Angels “Gripping . . . a war story in which the main characters never kill one of the enemy, or even shoot at him, but are nevertheless heroes . . . Americans today should thank God we had such women.”—Stephen E. Ambrose “Remarkable and uplifting.”—USA Today “[Elizabeth M. Norman] brings a quiet, scholarly voice to this narrative. . . . In just a little over six months these women had turned from plucky young girls on a mild adventure to authentic heroes. . . . Every page of this history is fascinating.”—Carolyn See, The Washington Post “Riveting . . . poignant and powerful.”—The Dallas Morning News Winner of the Lavinia Dock Award for historical scholarship, the American Academy of Nursing National Media Award, and the Agnes Dillon Randolph Award",
          "In Prayer That Brings Revival, best-selling author David Yonggi Cho shares key principles to having the kind of prayer life that will move your mountains and stir revival in home, church, and community. This book will: -Show you how prayer produces power. -Teach you the key to prayer and fasting. -Prepare you to wait on the Lord. -Help you to pray longer, with more persistence. -Instruct you on how to listen to God's voice.",
          "THE MYSTICAL JOURNEY FROM JESUS TO CHRIST Discover the ancient Egyptian origins of Christianity before the Catholic Church and learn the mystical teachings given by Jesus to assist all humanity in becoming Christlike. Discover the secret meaning of the Gospels that were discovered in Egypt. Also discover how and why so many Christian churches came into being. Discover that the Bible still holds the keys to mystical realization even though its original writings were changed by the church. Discover how to practice the original teachings of Christianity which leads to the Kingdom of Heaven.",
          "Upon receiving his execution date, one of the thousands of men living on death row in the United States had an epiphany: “All there ever is, is this moment. You, me, all of us, right here, right now, this minute, that's love.” Right Here, Right Now collects the powerful, first-person stories of dozens of men on death rows across the country. From childhood experiences living with poverty, hunger, and violence to mental illness and police misconduct to coming to terms with their executions, these men outline their struggle to maintain their connection to society and sustain the humanity that incarceration and its daily insults attempt to extinguish. By offering their hopes, dreams, aspirations, fears, failures, and wounds, the men challenge us to reconsider whether our current justice system offers actual justice or simply perpetuates the social injustices that obscure our shared humanity.",
          "An updated and expanded version of a classic and essential text on prosody."
         ],
         "index": [
          0,
          1,
          2,
          3,
          4
         ],
         "popularity": [
          "Unpopular",
          "Unpopular",
          "Unpopular",
          "Unpopular",
          "Unpopular"
         ],
         "price": [
          10.88,
          9.35,
          24.95,
          7.99,
          32.5
         ],
         "review/helpfulness": [
          "2/3",
          "0/0",
          "17/19",
          "0/1",
          "18/20"
         ],
         "review/summary": [
          "A Great Book about women in WWII",
          "Very helpful book for church prayer groups and if you are by yourself.",
          "Universal Spiritual Awakening Guide With Some Too Radical Approaches",
          "Ben Kincaid tries to stop an execution.",
          "good introduction to modern prosody"
         ],
         "review/text": [
          "I have alway been a fan of fiction books set in WW2,even though I am not sure why. I recently decided to see if that interst went over to non-fiction so I bought &quot;We Band of Angels&quot; and I was so glad that I did. This was a great book about nurses that served during this time. I don't think that any of them ever thought that they would ever see combat, but when it came they were truly amazing people during one of histories darkest hour. A must read.",
          "Very helpful book to give you a better prayer life. It brings clarity and understanding of how to have an effective prayer life.",
          "The message of this book is to find yourself as that what you are: The Self, without any separations. Everything is the Supreme Being. Realize your divinity, and everybody and everything else's! It is the task of the spiritual seeker to go beyond the veil of outer forms of religion, including symbols, doctrines, rituals and traditions. No matter what branch of religion, when you have mastered its myths and rituals, you are taken further, into the mysticism, which is always of the above knowledge. This book includes Buddhism, Christianity, Hinduism, Islam, Judaism, Taoism, Yoga and some other branches, which are all derived from the Ancient Egyptian religion.Comparisons are not only made via the similarities of myths, e.g. the quasi identical child stories of Heru, Krishna, Jesus, etc., but the universal wisdom behind such metaphorical stories. The official religion leaders may have persecuted those wisdom seekers who appear in the form of Christian Gnostics or Muslim Sufis etc. It has been a power struggle of the respective Orthodox officials versus the Yoga branches.The book is helping in the elimination of dualism, egoism, anger, greed addiction, nationalism, religious hate, sexism and any other separation. (Though further help via knowledge may be necessary and some separations have been left out.) With that, the cycle of birth and death gets broken, as well as the concept of hell.All of this is done from many perspectives. Which by itself becomes repetitive. The books repeats in addition to that.Usually indirectly, the author assumes at several points that the ancient Jews including Moses and Abraham would have been white, leading to some wrong conclusions from that, e.g. the origin of racism supposedly deriving from the Jewish concept of not marrying outside themselves. In reality, most of them became lighter-skinned, BECAUSE of so much procreating with \"outsiders\". Read for exampleThe Africans Who Wrote the Bible. Moses would be metaphorical. ReadMoses and Akhenaten: The Secret History of Egypt at the Time of the Exodusfor a much different perspective. Occasionally I found it difficult to differentiate of what the author was writing about: Egypt, Ethiopia/Axum or Sudan/Nubia, for the interchangeable use of vocabulary.Occasionally the book takes its ways too far, something prone to happen in religion and human minds in general. It is correct in saying that celibacy allows spiritual energy to build up in such abundance, that great works may be written for humanity. But please: No absolutism! There isn't the metaphor of going into the desert for 40 days for nothing: After that, please return! If you don't, several things are bound to happen: Ever more radicalism. In medievil European times, youths were burnt at the stake for wet dreams in some places, in others the VICTIMS of rape as sick. After roughly two centuries the absolutely celibate Christian \"Shakers\" of the USA are virtually extinct (adoption and proselytizing coulnd't stop that trend). A divided society of two spiritual classes under the Vatican. The celibacy wisdom from eastern Asia is based on lacking ancient knowledge. It was presumed that during orgasm of mostly males, a liquid of lifeforce would be lost to the body. For one thing: The body isn't meant to be eternal. That liquid makes sure, it will get renewed via a new body. For another: If that liquid doesn't leave the body, it will turn \"dead\" after four days. If it doesn't get expelled automatically during sleep, it will get reabsorbed by the body like a black and blue mark. Eastern knowledge also says orgasm is one of the short experiences of a divine state. Use sexuality in a conscious, different than plain addiction way, maybe with some breaks once in a while. There's no need for further nurturing the meme pool of medievil sex-hostility.As a RastafarI I was enjoyed to read a spiritual book which largely corresponds to my overstanding of spirituality. In utter irony, in its two pages devoted to \"Rastafarianism\" [sic!], the author basically avers this branch of religion wouldn't \"understand\" a thing. Which is the only religion, he is saying that about in its entirety. I couldn't believe the words I was reading. If any other author would have written something absurd like this... but for this one such a sloppy non-overstanding is simply embarassing. I mean, even the minister-author of the blatantly ANTI-gnosticDread Jesusprovides involuntary knowledge about RastafarI to the contrary. Obviously, Muata Abhaya Ashby escaped the 1983 bookRastafari: For the Healing of the Nations. I am amazed he didn't even wonder about the \"I-and-I\" concept (instead of \"we\"), to come up with some conclusion of compatibility with his vision. But then again, I-n-I live in anti-Rasta Imes. Accordingly, this sub-chapter insults RastafarI as a belief, \"fomenting unrest and divisiveness between peoples\" and with Jah as having died. Additionally, the author wastes precious space with supposedly strict food laws, including ones against milk and coffee. ??? Some digestive tracts may not react this well to milk and personally I am not too fond of the taste of coffee, though I'd like to hear another Rasta reprimanding me for drinking an originally Ethiopian beverage, should I ever chose to do so! I have no idea, where the author collected his very superficial and monolithic ideas, so here's a message: In the terms as used by the author, guess what: There are Orthodox and Yoga branches within RastafarI as well.This book also leaves out, what the author would term Science Yoga. For that readFrom Science to God: A Physicist's Journey into the Mystery of Consciousness.Other readers may find it inconvenient to read about the severing of family ties. My advice: Do not fall for ever more radical, literal interpretations, otherwise this basic wisdom will get pushed from the pedestal entirely sooner or later by yourself or a following generation. Also the illusion of the current concept of civilisation and democracy are valid ideas, including that the separation of state and religion has opened the doors to corruption, exploitation and similar unethical behaviour by political and economical leaders. However, that isn't much different with various religious leaders including countries with no such separation. The solution has yet to be worked out instead of a somehow suggested either-or approach.The publication itself isn't for perfectionists. Included is an ad for a guide to self-publishing. This edition of \"1998-2006\" sure provides some hints of what to take better care of. The resolution of images is largely a catastrophe. References to the cover pictures are obviously from another edition. The captions within the book are occasionally switched. There are even captions without any images and a caption erasing the main text. Footnotes may have been provided within the text already, a chapter features a non-existing Roman numeral, etc. and the title of the book has been changed. Originally, it was preceded with \"Christian Yoga Volume 1:\" There's much ado about a 2nd Volume, yet I wasn't able to find any trace of it.Keep in mind, that the supersize of this book (28 x 21cm) basically doubles the small print content of its 256 regular text pages to that of normal-sized books.",
          "The hero of William Bernhardt's Ben Kincaid novels is a socially inept but legally astute Oklahoma criminal defense attorney. Traditionally, a Ben Kincaid novel features a great deal of cutesy banter and coy behavior on the part of Ben and his wacky office staff. There is still some of that in &quot;Death Row,&quot; but this book proves to be much more harrowing and serious than the usual Bernhardt fare.The first chapter of &quot;Death Row&quot; is frightening and disturbing. The reader is immediately plunged into an apparent home invasion in which a family is brutally tortured and murdered, with one survivor desperately trying to break free before she too is killed. We then fast forward seven years later to the trial of Ray Goldman, who is convicted and sentenced to die for the killing of the aforementioned family. Ben Kincaid is handling Goldman's case. With the help of his good friend and law partner, Christina McCall, Ben desperately tries to postpone the execution so that he can find evidence that will exonerate his client.There is an entertaining subplot featuring Major Mike Morelli, Ben's former brother-in-law. Morelli is a homicide detective who is forced to pair up with a new partner, a woman who is as irritating as she is beautiful. Morelli and his partner get embroiled in Ben's case when several women connected with the investigation are found dead, both apparent suicides. Did these women really kill themselves or were they murdered?The plot thickens as Ben, Mike and their colleagues dig deeper and deeper to get at the truth of what really happened seven years ago. &quot;Death Row&quot; is an absorbing and hard-hitting thriller with many surprising twists and turns. The book is fast-paced and the humor is appropriately restrained considering the subject matter of the novel. I do have one or two quibbles, however. There are several coincidences in the book that make little sense. In addition, as in his previous books, Bernhardt persists in having Ben and Christina relate emotionally to one another like lovesick teenagers. It would be nice to see these two behave like mature adults. Still &quot;Death Row&quot; is one of the best Ben Kincaid novels that Bernhardt has written in years and I recommend it.",
          "There's a lot in this book which the reader will see repeated in other books on prosody -- an introductory chapter dealing with the relations between form and rhythm on one hand and content and meaning on the other; an analysis of the changes between Romantic versification and the modern period, beginning with the work of Dickinson, Hopkins, Hardy, and Whitman; the importance of the Imagists; the opening shots by Pound and Eliot in the Modernist revolution; and a few other topics.Most of the book is handled very well. It's refreshing to see an analysis of Browning's pentameter style which emphasizes not his &quot;colloquial&quot; approach, as so many others do, but instead lauds the extent to which he moves AWAY from the colloquial style and more toward roughness and jaggedness. The Modern period is handled with finesse as well. The drawbacks to the book, in my opinion, begin with the period closer to the present. Some of the analyses on free verse do not make as much sense as similar analyses in Paul Fussell's &quot;Poetic Meter and Poetic Form,&quot; despite the more recent volume's indebtedness to the former. As D. H. Lawrence said, it is no use manufacturing fancy laws for the governing of free verse. Too much weight is given to some poets who are clearly minor, such as Maxine Kumin, and too little to poets whose craftsmanship is unquestioned, such as Robert Lowell. Most oddly, there is no attention given to two of the finer formal craftsmen of recent history, James Merrill and Derek Walcott; these two use free verse but also expand the boundaries of traditional metrical approaches, and their efforts here should not go unnoticed. And I might take issue with the expanded coverage given to the most recent trend in prosody, the New Formalists, simply because, as I noted in my review of &quot;Rebel Angels&quot; for Amazon, they aren't that good and they haven't ADVANCED metrical techniques that much.Aside from these qualms, &quot;Sound and Form&quot; is a good survey of prosody of the ! last century."
         ],
         "title": [
          "We Band of Angels: The Untold Story of American Nurses Trapped on Bataan by the Japanese",
          "Prayer That Brings Revival: Interceding for God to move in your family, church, and community",
          "The Mystical Journey from Jesus to Christ",
          "Death Row",
          "Sound and Form in Modern Poetry: Second Edition (Ann Arbor Paperbacks)"
         ]
        },
        "schema": {
         "fields": [
          {
           "name": "index",
           "type": "integer"
          },
          {
           "name": "title",
           "type": "string"
          },
          {
           "name": "price",
           "type": "number"
          },
          {
           "name": "review/helpfulness",
           "type": "string"
          },
          {
           "name": "review/summary",
           "type": "string"
          },
          {
           "name": "review/text",
           "type": "string"
          },
          {
           "name": "description",
           "type": "string"
          },
          {
           "name": "authors",
           "type": "string"
          },
          {
           "name": "categories",
           "type": "string"
          },
          {
           "name": "popularity",
           "type": "string"
          }
         ],
         "pandas_version": "1.4.0",
         "primaryKey": [
          "index"
         ]
        }
       },
       "total_rows": 5,
       "truncation_type": null
      },
      "text/html": [
       "<div>\n",
       "<style scoped>\n",
       "    .dataframe tbody tr th:only-of-type {\n",
       "        vertical-align: middle;\n",
       "    }\n",
       "\n",
       "    .dataframe tbody tr th {\n",
       "        vertical-align: top;\n",
       "    }\n",
       "\n",
       "    .dataframe thead th {\n",
       "        text-align: right;\n",
       "    }\n",
       "</style>\n",
       "<table border=\"1\" class=\"dataframe\">\n",
       "  <thead>\n",
       "    <tr style=\"text-align: right;\">\n",
       "      <th></th>\n",
       "      <th>title</th>\n",
       "      <th>price</th>\n",
       "      <th>review/helpfulness</th>\n",
       "      <th>review/summary</th>\n",
       "      <th>review/text</th>\n",
       "      <th>description</th>\n",
       "      <th>authors</th>\n",
       "      <th>categories</th>\n",
       "      <th>popularity</th>\n",
       "    </tr>\n",
       "  </thead>\n",
       "  <tbody>\n",
       "    <tr>\n",
       "      <th>0</th>\n",
       "      <td>We Band of Angels: The Untold Story of America...</td>\n",
       "      <td>10.88</td>\n",
       "      <td>2/3</td>\n",
       "      <td>A Great Book about women in WWII</td>\n",
       "      <td>I have alway been a fan of fiction books set i...</td>\n",
       "      <td>In the fall of 1941, the Philippines was a gar...</td>\n",
       "      <td>'Elizabeth Norman'</td>\n",
       "      <td>'History'</td>\n",
       "      <td>Unpopular</td>\n",
       "    </tr>\n",
       "    <tr>\n",
       "      <th>1</th>\n",
       "      <td>Prayer That Brings Revival: Interceding for Go...</td>\n",
       "      <td>9.35</td>\n",
       "      <td>0/0</td>\n",
       "      <td>Very helpful book for church prayer groups and...</td>\n",
       "      <td>Very helpful book to give you a better prayer ...</td>\n",
       "      <td>In Prayer That Brings Revival, best-selling au...</td>\n",
       "      <td>'Yong-gi Cho'</td>\n",
       "      <td>'Religion'</td>\n",
       "      <td>Unpopular</td>\n",
       "    </tr>\n",
       "    <tr>\n",
       "      <th>2</th>\n",
       "      <td>The Mystical Journey from Jesus to Christ</td>\n",
       "      <td>24.95</td>\n",
       "      <td>17/19</td>\n",
       "      <td>Universal Spiritual Awakening Guide With Some ...</td>\n",
       "      <td>The message of this book is to find yourself a...</td>\n",
       "      <td>THE MYSTICAL JOURNEY FROM JESUS TO CHRIST Disc...</td>\n",
       "      <td>'Muata Ashby'</td>\n",
       "      <td>'Body, Mind &amp; Spirit'</td>\n",
       "      <td>Unpopular</td>\n",
       "    </tr>\n",
       "    <tr>\n",
       "      <th>3</th>\n",
       "      <td>Death Row</td>\n",
       "      <td>7.99</td>\n",
       "      <td>0/1</td>\n",
       "      <td>Ben Kincaid tries to stop an execution.</td>\n",
       "      <td>The hero of William Bernhardt's Ben Kincaid no...</td>\n",
       "      <td>Upon receiving his execution date, one of the ...</td>\n",
       "      <td>'Lynden Harris'</td>\n",
       "      <td>'Social Science'</td>\n",
       "      <td>Unpopular</td>\n",
       "    </tr>\n",
       "    <tr>\n",
       "      <th>4</th>\n",
       "      <td>Sound and Form in Modern Poetry: Second Editio...</td>\n",
       "      <td>32.50</td>\n",
       "      <td>18/20</td>\n",
       "      <td>good introduction to modern prosody</td>\n",
       "      <td>There's a lot in this book which the reader wi...</td>\n",
       "      <td>An updated and expanded version of a classic a...</td>\n",
       "      <td>'Harvey Seymour Gross', 'Robert McDowell'</td>\n",
       "      <td>'Poetry'</td>\n",
       "      <td>Unpopular</td>\n",
       "    </tr>\n",
       "  </tbody>\n",
       "</table>\n",
       "</div>"
      ],
      "text/plain": [
       "                                               title  ...  popularity\n",
       "0  We Band of Angels: The Untold Story of America...  ...   Unpopular\n",
       "1  Prayer That Brings Revival: Interceding for Go...  ...   Unpopular\n",
       "2          The Mystical Journey from Jesus to Christ  ...   Unpopular\n",
       "3                                          Death Row  ...   Unpopular\n",
       "4  Sound and Form in Modern Poetry: Second Editio...  ...   Unpopular\n",
       "\n",
       "[5 rows x 9 columns]"
      ]
     },
     "execution_count": 67,
     "metadata": {},
     "output_type": "execute_result"
    }
   ],
   "source": [
    "import pandas as pd \n",
    "from sklearn.preprocessing import LabelEncoder, StandardScaler\n",
    "from sklearn.feature_extraction.text import TfidfVectorizer\n",
    "from sklearn.model_selection import train_test_split\n",
    "from sklearn.ensemble import RandomForestClassifier\n",
    "from scipy.sparse import hstack\n",
    "from sklearn.metrics import accuracy_score\n",
    "\n",
    "# Read in the dataset\n",
    "books = pd.read_csv(\"data/books.csv\")\n",
    "\n",
    "# Preview the first five rows of the dataset\n",
    "books.head()"
   ]
  },
  {
   "cell_type": "code",
   "execution_count": 68,
   "id": "c0b9d2fd-f495-4d16-971d-b05a83032921",
   "metadata": {
    "executionCancelledAt": null,
    "executionTime": 63,
    "lastExecutedAt": 1733269229606,
    "lastExecutedByKernel": "cfc24393-52d8-4ebc-b53a-dfea351a0d49",
    "lastScheduledRunId": null,
    "lastSuccessfullyExecutedCode": "# Feature selection (text-based features)\n# Select columns related to review summary, review text, and review helpfulness for feature extraction\nX = books[['review/summary', 'review/text', 'review/helpfulness']]\n\n# Step 1: Split the 'review/helpfulness' column into two columns (good_reviews, total_reviews)\n# The 'review/helpfulness' is split into two integers representing the number of helpful and total reviews\nbooks[['good_reviews', 'total_reviews']] = books['review/helpfulness'].str.split('/', expand=True).astype(int)\n\n# Preprocess price: Scale the price column using StandardScaler for normalization\nscaler = StandardScaler()\nbooks['price_scaled'] = scaler.fit_transform(books[['price']])\n\n# Create a binary classification target based on popularity\n# Map 'Popular' to 1 and 'Unpopular' to 0 for target variable\nbooks['popularity_binary'] = books['popularity'].map({'Popular': 1, 'Unpopular': 0})",
    "outputsMetadata": {
     "0": {
      "height": 265,
      "type": "dataFrame"
     }
    }
   },
   "outputs": [],
   "source": [
    "# Feature selection (text-based features)\n",
    "# Select columns related to review summary, review text, and review helpfulness for feature extraction\n",
    "X = books[['review/summary', 'review/text', 'review/helpfulness']]\n",
    "\n",
    "# Step 1: Split the 'review/helpfulness' column into two columns (good_reviews, total_reviews)\n",
    "# The 'review/helpfulness' is split into two integers representing the number of helpful and total reviews\n",
    "books[['good_reviews', 'total_reviews']] = books['review/helpfulness'].str.split('/', expand=True).astype(int)\n",
    "\n",
    "# Preprocess price: Scale the price column using StandardScaler for normalization\n",
    "scaler = StandardScaler()\n",
    "books['price_scaled'] = scaler.fit_transform(books[['price']])\n",
    "\n",
    "# Create a binary classification target based on popularity\n",
    "# Map 'Popular' to 1 and 'Unpopular' to 0 for target variable\n",
    "books['popularity_binary'] = books['popularity'].map({'Popular': 1, 'Unpopular': 0})"
   ]
  },
  {
   "cell_type": "code",
   "execution_count": 69,
   "id": "14cfcb2a-a5e6-42d5-b5bb-c03b2d05ae4b",
   "metadata": {
    "executionCancelledAt": null,
    "executionTime": 1357,
    "lastExecutedAt": 1733269230963,
    "lastExecutedByKernel": "cfc24393-52d8-4ebc-b53a-dfea351a0d49",
    "lastScheduledRunId": null,
    "lastSuccessfullyExecutedCode": "# Process review summary and review text using TF-IDF vectorization\n# Convert the text data into a sparse matrix representation based on term frequencies and inverse document frequencies\ntfidf = TfidfVectorizer(max_features=100)  # Limit to the top 100 features\nreview_summary_tfidf = tfidf.fit_transform(books['review/summary'].fillna(''))  # Handle missing data by filling with empty strings\nreview_text_tfidf = tfidf.fit_transform(books['review/text'].fillna(''))"
   },
   "outputs": [],
   "source": [
    "# Process review summary and review text using TF-IDF vectorization\n",
    "# Convert the text data into a sparse matrix representation based on term frequencies and inverse document frequencies\n",
    "tfidf = TfidfVectorizer(max_features=100)  # Limit to the top 100 features\n",
    "review_summary_tfidf = tfidf.fit_transform(books['review/summary'].fillna(''))  # Handle missing data by filling with empty strings\n",
    "review_text_tfidf = tfidf.fit_transform(books['review/text'].fillna(''))"
   ]
  },
  {
   "cell_type": "code",
   "execution_count": 70,
   "id": "42d9c7e8-2c2b-429f-a7af-b9c2612383cc",
   "metadata": {
    "executionCancelledAt": null,
    "executionTime": 858,
    "lastExecutedAt": 1733269231822,
    "lastExecutedByKernel": "cfc24393-52d8-4ebc-b53a-dfea351a0d49",
    "lastScheduledRunId": null,
    "lastSuccessfullyExecutedCode": "# Process authors using label encoding to convert categorical data into numerical format\nlabel_encoder = LabelEncoder()\nbooks['author_encoded'] = label_encoder.fit_transform(books['authors'])\n\n# Process categories: Create dummy variables for each category by splitting on commas\ncategories_dummies = books['categories'].str.get_dummies(sep=',')\nbooks = pd.concat([books, categories_dummies], axis=1)\n\n# Select numerical features (scaled price and review counts)\nnumerical_features = books[['price_scaled', 'good_reviews', 'total_reviews']].values"
   },
   "outputs": [],
   "source": [
    "# Process authors using label encoding to convert categorical data into numerical format\n",
    "label_encoder = LabelEncoder()\n",
    "books['author_encoded'] = label_encoder.fit_transform(books['authors'])\n",
    "\n",
    "# Process categories: Create dummy variables for each category by splitting on commas\n",
    "categories_dummies = books['categories'].str.get_dummies(sep=',')\n",
    "books = pd.concat([books, categories_dummies], axis=1)\n",
    "\n",
    "# Select numerical features (scaled price and review counts)\n",
    "numerical_features = books[['price_scaled', 'good_reviews', 'total_reviews']].values"
   ]
  },
  {
   "cell_type": "code",
   "execution_count": 71,
   "id": "462a62db-2384-4e72-a66e-d186408d4b54",
   "metadata": {
    "executionCancelledAt": null,
    "executionTime": 50,
    "lastExecutedAt": 1733269231874,
    "lastExecutedByKernel": "cfc24393-52d8-4ebc-b53a-dfea351a0d49",
    "lastScheduledRunId": null,
    "lastSuccessfullyExecutedCode": "# Combine all features into a single feature matrix:\n# - Numerical features (scaled price, review counts)\n# - TF-IDF features (summary and text)\n# - One-hot encoded categories\ncombined_features = hstack([numerical_features, review_summary_tfidf, review_text_tfidf, categories_dummies.values])"
   },
   "outputs": [],
   "source": [
    "# Combine all features into a single feature matrix:\n",
    "# - Numerical features (scaled price, review counts)\n",
    "# - TF-IDF features (summary and text)\n",
    "# - One-hot encoded categories\n",
    "combined_features = hstack([numerical_features, review_summary_tfidf, review_text_tfidf, categories_dummies.values])"
   ]
  },
  {
   "cell_type": "code",
   "execution_count": 72,
   "id": "1af9b0eb-00c6-4fea-83e0-5c2fc44a586b",
   "metadata": {
    "executionCancelledAt": null,
    "executionTime": 48,
    "lastExecutedAt": 1733269231922,
    "lastExecutedByKernel": "cfc24393-52d8-4ebc-b53a-dfea351a0d49",
    "lastScheduledRunId": null,
    "lastSuccessfullyExecutedCode": "# Define target variable (popularity binary: 1 for popular, 0 for unpopular)\ny = books['popularity_binary']"
   },
   "outputs": [],
   "source": [
    "# Define target variable (popularity binary: 1 for popular, 0 for unpopular)\n",
    "y = books['popularity_binary']"
   ]
  },
  {
   "cell_type": "code",
   "execution_count": 73,
   "id": "7a8d425f-715e-4d9d-bc99-4cb1a12ccef6",
   "metadata": {
    "executionCancelledAt": null,
    "executionTime": 48,
    "lastExecutedAt": 1733269231970,
    "lastExecutedByKernel": "cfc24393-52d8-4ebc-b53a-dfea351a0d49",
    "lastScheduledRunId": null,
    "lastSuccessfullyExecutedCode": "# Train-test split: Split the data into training and testing sets (80% for training, 20% for testing)\nX_train, X_test, y_train, y_test = train_test_split(combined_features, y, test_size=0.2, random_state=42)"
   },
   "outputs": [],
   "source": [
    "# Train-test split: Split the data into training and testing sets (80% for training, 20% for testing)\n",
    "X_train, X_test, y_train, y_test = train_test_split(combined_features, y, test_size=0.2, random_state=42)"
   ]
  },
  {
   "cell_type": "code",
   "execution_count": 74,
   "id": "20b08e18-7f46-4ec8-9a6d-bead7023d175",
   "metadata": {
    "executionCancelledAt": null,
    "executionTime": 11229,
    "lastExecutedAt": 1733269243199,
    "lastExecutedByKernel": "cfc24393-52d8-4ebc-b53a-dfea351a0d49",
    "lastScheduledRunId": null,
    "lastSuccessfullyExecutedCode": "# Train a Random Forest model with 100 estimators\nmodel = RandomForestClassifier(\n    n_estimators=100,           # Number of trees in the forest\n    criterion='gini',           # Gini impurity for splitting nodes\n    max_depth=None,             # No limit on the depth of trees\n    min_samples_split=2,        # Minimum number of samples required to split a node\n    random_state=42             # Ensuring reproducibility\n)\nmodel.fit(X_train, y_train)  # Fit the model to the training data"
   },
   "outputs": [
    {
     "data": {
      "text/html": [
       "<style>#sk-container-id-1 {color: black;background-color: white;}#sk-container-id-1 pre{padding: 0;}#sk-container-id-1 div.sk-toggleable {background-color: white;}#sk-container-id-1 label.sk-toggleable__label {cursor: pointer;display: block;width: 100%;margin-bottom: 0;padding: 0.3em;box-sizing: border-box;text-align: center;}#sk-container-id-1 label.sk-toggleable__label-arrow:before {content: \"▸\";float: left;margin-right: 0.25em;color: #696969;}#sk-container-id-1 label.sk-toggleable__label-arrow:hover:before {color: black;}#sk-container-id-1 div.sk-estimator:hover label.sk-toggleable__label-arrow:before {color: black;}#sk-container-id-1 div.sk-toggleable__content {max-height: 0;max-width: 0;overflow: hidden;text-align: left;background-color: #f0f8ff;}#sk-container-id-1 div.sk-toggleable__content pre {margin: 0.2em;color: black;border-radius: 0.25em;background-color: #f0f8ff;}#sk-container-id-1 input.sk-toggleable__control:checked~div.sk-toggleable__content {max-height: 200px;max-width: 100%;overflow: auto;}#sk-container-id-1 input.sk-toggleable__control:checked~label.sk-toggleable__label-arrow:before {content: \"▾\";}#sk-container-id-1 div.sk-estimator input.sk-toggleable__control:checked~label.sk-toggleable__label {background-color: #d4ebff;}#sk-container-id-1 div.sk-label input.sk-toggleable__control:checked~label.sk-toggleable__label {background-color: #d4ebff;}#sk-container-id-1 input.sk-hidden--visually {border: 0;clip: rect(1px 1px 1px 1px);clip: rect(1px, 1px, 1px, 1px);height: 1px;margin: -1px;overflow: hidden;padding: 0;position: absolute;width: 1px;}#sk-container-id-1 div.sk-estimator {font-family: monospace;background-color: #f0f8ff;border: 1px dotted black;border-radius: 0.25em;box-sizing: border-box;margin-bottom: 0.5em;}#sk-container-id-1 div.sk-estimator:hover {background-color: #d4ebff;}#sk-container-id-1 div.sk-parallel-item::after {content: \"\";width: 100%;border-bottom: 1px solid gray;flex-grow: 1;}#sk-container-id-1 div.sk-label:hover label.sk-toggleable__label {background-color: #d4ebff;}#sk-container-id-1 div.sk-serial::before {content: \"\";position: absolute;border-left: 1px solid gray;box-sizing: border-box;top: 0;bottom: 0;left: 50%;z-index: 0;}#sk-container-id-1 div.sk-serial {display: flex;flex-direction: column;align-items: center;background-color: white;padding-right: 0.2em;padding-left: 0.2em;position: relative;}#sk-container-id-1 div.sk-item {position: relative;z-index: 1;}#sk-container-id-1 div.sk-parallel {display: flex;align-items: stretch;justify-content: center;background-color: white;position: relative;}#sk-container-id-1 div.sk-item::before, #sk-container-id-1 div.sk-parallel-item::before {content: \"\";position: absolute;border-left: 1px solid gray;box-sizing: border-box;top: 0;bottom: 0;left: 50%;z-index: -1;}#sk-container-id-1 div.sk-parallel-item {display: flex;flex-direction: column;z-index: 1;position: relative;background-color: white;}#sk-container-id-1 div.sk-parallel-item:first-child::after {align-self: flex-end;width: 50%;}#sk-container-id-1 div.sk-parallel-item:last-child::after {align-self: flex-start;width: 50%;}#sk-container-id-1 div.sk-parallel-item:only-child::after {width: 0;}#sk-container-id-1 div.sk-dashed-wrapped {border: 1px dashed gray;margin: 0 0.4em 0.5em 0.4em;box-sizing: border-box;padding-bottom: 0.4em;background-color: white;}#sk-container-id-1 div.sk-label label {font-family: monospace;font-weight: bold;display: inline-block;line-height: 1.2em;}#sk-container-id-1 div.sk-label-container {text-align: center;}#sk-container-id-1 div.sk-container {/* jupyter's `normalize.less` sets `[hidden] { display: none; }` but bootstrap.min.css set `[hidden] { display: none !important; }` so we also need the `!important` here to be able to override the default hidden behavior on the sphinx rendered scikit-learn.org. See: https://github.com/scikit-learn/scikit-learn/issues/21755 */display: inline-block !important;position: relative;}#sk-container-id-1 div.sk-text-repr-fallback {display: none;}</style><div id=\"sk-container-id-1\" class=\"sk-top-container\"><div class=\"sk-text-repr-fallback\"><pre>RandomForestClassifier(random_state=42)</pre><b>In a Jupyter environment, please rerun this cell to show the HTML representation or trust the notebook. <br />On GitHub, the HTML representation is unable to render, please try loading this page with nbviewer.org.</b></div><div class=\"sk-container\" hidden><div class=\"sk-item\"><div class=\"sk-estimator sk-toggleable\"><input class=\"sk-toggleable__control sk-hidden--visually\" id=\"sk-estimator-id-1\" type=\"checkbox\" checked><label for=\"sk-estimator-id-1\" class=\"sk-toggleable__label sk-toggleable__label-arrow\">RandomForestClassifier</label><div class=\"sk-toggleable__content\"><pre>RandomForestClassifier(random_state=42)</pre></div></div></div></div></div>"
      ],
      "text/plain": [
       "RandomForestClassifier(random_state=42)"
      ]
     },
     "execution_count": 74,
     "metadata": {},
     "output_type": "execute_result"
    }
   ],
   "source": [
    "# Train a Random Forest model with 100 estimators\n",
    "model = RandomForestClassifier(\n",
    "    n_estimators=100,           # Number of trees in the forest\n",
    "    criterion='gini',           # Gini impurity for splitting nodes\n",
    "    max_depth=None,             # No limit on the depth of trees\n",
    "    min_samples_split=2,        # Minimum number of samples required to split a node\n",
    "    random_state=42             # Ensuring reproducibility\n",
    ")\n",
    "model.fit(X_train, y_train)  # Fit the model to the training data"
   ]
  },
  {
   "cell_type": "code",
   "execution_count": 75,
   "id": "8fd2e49a-87f2-4a89-81ef-98bef747ce66",
   "metadata": {
    "executionCancelledAt": null,
    "executionTime": 108,
    "lastExecutedAt": 1733269243307,
    "lastExecutedByKernel": "cfc24393-52d8-4ebc-b53a-dfea351a0d49",
    "lastScheduledRunId": null,
    "lastSuccessfullyExecutedCode": "# Evaluate the model using accuracy score on the test set\nmodel_accuracy = model.score(X_test, y_test)\nprint(f\"Model Accuracy: {model_accuracy:.2f}\")  # Print the model's accuracy on the test set",
    "outputsMetadata": {
     "0": {
      "height": 38,
      "type": "stream"
     }
    }
   },
   "outputs": [
    {
     "name": "stdout",
     "output_type": "stream",
     "text": [
      "Model Accuracy: 0.75\n"
     ]
    }
   ],
   "source": [
    "# Evaluate the model using accuracy score on the test set\n",
    "model_accuracy = model.score(X_test, y_test)\n",
    "print(f\"Model Accuracy: {model_accuracy:.2f}\")  # Print the model's accuracy on the test set"
   ]
  }
 ],
 "metadata": {
  "colab": {
   "name": "Welcome to DataCamp Workspaces.ipynb",
   "provenance": []
  },
  "editor": "DataLab",
  "kernelspec": {
   "display_name": "Python 3 (ipykernel)",
   "language": "python",
   "name": "python3"
  },
  "language_info": {
   "codemirror_mode": {
    "name": "ipython",
    "version": 3
   },
   "file_extension": ".py",
   "mimetype": "text/x-python",
   "name": "python",
   "nbconvert_exporter": "python",
   "pygments_lexer": "ipython3",
   "version": "3.8.10"
  }
 },
 "nbformat": 4,
 "nbformat_minor": 5
}
